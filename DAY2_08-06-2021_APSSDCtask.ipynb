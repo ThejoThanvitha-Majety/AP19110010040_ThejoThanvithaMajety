{
 "cells": [
  {
   "cell_type": "markdown",
   "metadata": {},
   "source": [
    "# TASK 08/06/2021 APSSDC AP19110010040"
   ]
  },
  {
   "cell_type": "code",
   "execution_count": 5,
   "metadata": {},
   "outputs": [
    {
     "name": "stdout",
     "output_type": "stream",
     "text": [
      "Enter your age:19\n",
      "You are eligible to vote\n"
     ]
    }
   ],
   "source": [
    "#Write a program to check whether the user is eligibe to vote or not \n",
    "x=int(input(\"Enter your age:\"))\n",
    "if (x>=18):\n",
    "    print(\"You are eligible to vote\")\n",
    "else:\n",
    "    print(\"You are not eligible to vote\")"
   ]
  },
  {
   "cell_type": "code",
   "execution_count": 2,
   "metadata": {},
   "outputs": [
    {
     "name": "stdout",
     "output_type": "stream",
     "text": [
      "Enter your number:-3\n",
      "The number is negative: -3\n"
     ]
    }
   ],
   "source": [
    "#to check whether the given number is positive or not\n",
    "x = int(input(\"Enter your number:\"))\n",
    "if(x>0):\n",
    "    print(\"The number is positive:\",x)\n",
    "elif(x<0):\n",
    "    print(\"The number is negative:\",x)\n",
    "else:\n",
    "    print(\"The number is zero\")"
   ]
  },
  {
   "cell_type": "code",
   "execution_count": 6,
   "metadata": {},
   "outputs": [
    {
     "name": "stdout",
     "output_type": "stream",
     "text": [
      "Enter your number:10\n",
      "The number is even but not divisible by 4\n"
     ]
    }
   ],
   "source": [
    "#To check whether the given number is odd or even, and if it's even checck will it be divided by 4 or not\n",
    "x= int(input(\"Enter your number:\"))\n",
    "if (x%2==0 and x%4==0):\n",
    "    print(\"The number is even and divisible by 4\",x)\n",
    "elif(x%2==0 and x%4!=0):\n",
    "    print(\"The number is even but not divisible by 4\")\n",
    "else:\n",
    "    print(\"The number is odd\")"
   ]
  },
  {
   "cell_type": "code",
   "execution_count": 12,
   "metadata": {},
   "outputs": [
    {
     "name": "stdout",
     "output_type": "stream",
     "text": [
      "Enter your percentage54\n",
      "The student is just pass 54 %\n"
     ]
    }
   ],
   "source": [
    "#program to print the student grades based on the percentages\n",
    "x= int(input(\"Enter your percentage\"))\n",
    "if(x>=60):\n",
    "    print(\"The student passed in distinction\",x,\"%\")\n",
    "elif(x>=35 and x<60):\n",
    "    print(\"The student is just pass\",x,\"%\")\n",
    "else:\n",
    "    print(\"The student failed\")"
   ]
  },
  {
   "cell_type": "code",
   "execution_count": 16,
   "metadata": {},
   "outputs": [
    {
     "name": "stdout",
     "output_type": "stream",
     "text": [
      "Enter the year:2020\n",
      "The year is leap year 2020\n"
     ]
    }
   ],
   "source": [
    "#To check the given year is leap year or not\n",
    "x=int(input(\"Enter the year:\"))\n",
    "if(x%4==0 and x%100!=0):\n",
    "    print(\"The year is leap year\",x)\n",
    "elif(x%100==0):\n",
    "    print(\"The year is not a leap year\",x)\n",
    "elif(x%400==0):\n",
    "    print(\"The year is leap year\",x)\n",
    "else:\n",
    "    print(\"The year is not a leap year\")"
   ]
  }
 ],
 "metadata": {
  "kernelspec": {
   "display_name": "Python 3",
   "language": "python",
   "name": "python3"
  },
  "language_info": {
   "codemirror_mode": {
    "name": "ipython",
    "version": 3
   },
   "file_extension": ".py",
   "mimetype": "text/x-python",
   "name": "python",
   "nbconvert_exporter": "python",
   "pygments_lexer": "ipython3",
   "version": "3.8.5"
  }
 },
 "nbformat": 4,
 "nbformat_minor": 4
}
