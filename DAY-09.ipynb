{
 "cells": [
  {
   "cell_type": "markdown",
   "metadata": {},
   "source": [
    "# Task\n",
    "Write a program to Calculate area of\n",
    "\n",
    "- area of circle : pi*(r)^2\n",
    "\n",
    "- area of Triangle : 1/2 baseheight\n",
    "\n",
    "- area of square : Side^2\n",
    "\n",
    "- area of rectangle: l*b"
   ]
  },
  {
   "cell_type": "code",
   "execution_count": 1,
   "metadata": {},
   "outputs": [
    {
     "name": "stdout",
     "output_type": "stream",
     "text": [
      "Enter the radius: 5\n",
      "78.53981633974483\n"
     ]
    }
   ],
   "source": [
    "from math import pi\n",
    "r= int(input(\"Enter the radius: \"))\n",
    "Area = pi*(r*r)\n",
    "print(Area)"
   ]
  },
  {
   "cell_type": "code",
   "execution_count": 3,
   "metadata": {},
   "outputs": [
    {
     "name": "stdout",
     "output_type": "stream",
     "text": [
      "Enter the lenght base: 5\n",
      "Enter the height: 10\n",
      "25.0\n"
     ]
    }
   ],
   "source": [
    "import math\n",
    "b = int(input(\"Enter the lenght base: \"))\n",
    "h = int(input(\"Enter the height: \"))\n",
    "area = (b*h)/2\n",
    "print(area)"
   ]
  },
  {
   "cell_type": "code",
   "execution_count": 4,
   "metadata": {},
   "outputs": [
    {
     "name": "stdout",
     "output_type": "stream",
     "text": [
      "Enter the lenght of side: 6\n",
      "36\n"
     ]
    }
   ],
   "source": [
    "import math\n",
    "s = int(input(\"Enter the lenght of side: \"))\n",
    "area = s*s\n",
    "print(area)"
   ]
  },
  {
   "cell_type": "code",
   "execution_count": 5,
   "metadata": {},
   "outputs": [
    {
     "name": "stdout",
     "output_type": "stream",
     "text": [
      "Enter the lenght: 3\n",
      "Enter the breadth: 6\n",
      "18\n"
     ]
    }
   ],
   "source": [
    "import math\n",
    "l = int(input(\"Enter the lenght: \"))\n",
    "b = int(input(\"Enter the breadth: \"))\n",
    "area = l*b\n",
    "print(area)"
   ]
  },
  {
   "cell_type": "markdown",
   "metadata": {},
   "source": [
    "# Task\n",
    "- write a program to set your password, if password is correct then speak out welcome to your world, else try again"
   ]
  },
  {
   "cell_type": "code",
   "execution_count": 8,
   "metadata": {},
   "outputs": [
    {
     "name": "stdout",
     "output_type": "stream",
     "text": [
      "Collecting pyttsx3\n",
      "  Downloading pyttsx3-2.90-py3-none-any.whl (39 kB)\n",
      "Requirement already satisfied: comtypes; platform_system == \"Windows\" in c:\\users\\tanvi\\anaconda3\\lib\\site-packages (from pyttsx3) (1.1.7)\n",
      "Requirement already satisfied: pywin32; platform_system == \"Windows\" in c:\\users\\tanvi\\anaconda3\\lib\\site-packages (from pyttsx3) (227)\n",
      "Collecting pypiwin32; platform_system == \"Windows\"\n",
      "  Downloading pypiwin32-223-py3-none-any.whl (1.7 kB)\n",
      "Installing collected packages: pypiwin32, pyttsx3\n",
      "Successfully installed pypiwin32-223 pyttsx3-2.90\n",
      "Note: you may need to restart the kernel to use updated packages.\n"
     ]
    }
   ],
   "source": [
    "pip install pyttsx3"
   ]
  },
  {
   "cell_type": "code",
   "execution_count": 2,
   "metadata": {},
   "outputs": [
    {
     "name": "stdout",
     "output_type": "stream",
     "text": [
      "Enter your password: secret\n",
      "Confirm your password: secret\n"
     ]
    }
   ],
   "source": [
    "import pyttsx3\n",
    "x = input(\"Enter your password: \")\n",
    "y = input(\"Confirm your password: \")\n",
    "if x==y:\n",
    "    spk=pyttsx3.init()\n",
    "    spk.say(\"Welcome to your world\")\n",
    "    spk.runAndWait()\n",
    "else:\n",
    "    spk=pyttsx3.init()\n",
    "    spk.say(\"Try again\")\n",
    "    spk.runAndWait()"
   ]
  },
  {
   "cell_type": "markdown",
   "metadata": {},
   "source": [
    "# Task\n",
    "validate 12 digit phone number, +91 9876543202 - valid"
   ]
  },
  {
   "cell_type": "code",
   "execution_count": 3,
   "metadata": {},
   "outputs": [
    {
     "name": "stdout",
     "output_type": "stream",
     "text": [
      "+919876543210\n",
      "+918123456789\n",
      "+917890123456\n"
     ]
    }
   ],
   "source": [
    "import re\n",
    "l2 = ['+919876543210', '+918123456789', '+917890123456', '+91789654', '+911234567890']\n",
    "for i in l2:\n",
    "    if re.findall('^[+][9][1][6-9]{1}[0-9]{9}$',i):\n",
    "        print(i)"
   ]
  },
  {
   "cell_type": "markdown",
   "metadata": {},
   "source": [
    "# Task\n",
    "- write a program in module\n",
    "= ask the user to enter the data\n",
    "- check the data if it's camelcase print Like (Thumbsup)emoji\n",
    "- else convert the data into camelcase then speakout Successfully converted your data into camel case"
   ]
  },
  {
   "cell_type": "code",
   "execution_count": 8,
   "metadata": {},
   "outputs": [
    {
     "name": "stdout",
     "output_type": "stream",
     "text": [
      "Collecting camelcaseNote: you may need to restart the kernel to use updated packages.\n",
      "\n",
      "  Downloading camelcase-0.2.tar.gz (1.3 kB)\n",
      "Building wheels for collected packages: camelcase\n",
      "  Building wheel for camelcase (setup.py): started\n",
      "  Building wheel for camelcase (setup.py): finished with status 'done'\n",
      "  Created wheel for camelcase: filename=camelcase-0.2-py3-none-any.whl size=1794 sha256=cc5503c36b4353ba812dde2f0600e69ce826de4fe455ba788d7822c66f99cb12\n",
      "  Stored in directory: c:\\users\\tanvi\\appdata\\local\\pip\\cache\\wheels\\20\\1a\\a6\\5651fe658d5ffd7fcf610723557f7b20a52a71d7e8e1849cb6\n",
      "Successfully built camelcase\n",
      "Installing collected packages: camelcase\n",
      "Successfully installed camelcase-0.2\n"
     ]
    }
   ],
   "source": [
    "pip install camelcase"
   ]
  },
  {
   "cell_type": "code",
   "execution_count": 9,
   "metadata": {},
   "outputs": [
    {
     "name": "stdout",
     "output_type": "stream",
     "text": [
      "Collecting emojiNote: you may need to restart the kernel to use updated packages.\n",
      "\n",
      "  Downloading emoji-1.2.0-py3-none-any.whl (131 kB)\n",
      "Installing collected packages: emoji\n",
      "Successfully installed emoji-1.2.0\n"
     ]
    }
   ],
   "source": [
    "pip install emoji"
   ]
  },
  {
   "cell_type": "code",
   "execution_count": 1,
   "metadata": {},
   "outputs": [
    {
     "name": "stdout",
     "output_type": "stream",
     "text": [
      "Enter your data: Tanvi\n",
      "👍\n"
     ]
    }
   ],
   "source": [
    "import module\n",
    "module.conn_camelcase()"
   ]
  },
  {
   "cell_type": "code",
   "execution_count": 1,
   "metadata": {},
   "outputs": [
    {
     "name": "stdout",
     "output_type": "stream",
     "text": [
      "Enter your data: my name is tanvi\n",
      "The converted data is: \n",
      "My Name is Tanvi\n"
     ]
    }
   ],
   "source": [
    "import module\n",
    "module.conn_camelcase()"
   ]
  },
  {
   "cell_type": "code",
   "execution_count": 2,
   "metadata": {},
   "outputs": [],
   "source": [
    "#code written in the module is given below\n",
    "\n",
    "import camelcase\n",
    "import emoji\n",
    "import pyttsx3\n",
    "def conn_camelcase():\n",
    "    a=input(\"Enter your data: \")\n",
    "    x=camelcase.CamelCase()\n",
    "    if a==x.hump(a):\n",
    "        print(emoji.emojize(\":thumbs_up:\"))\n",
    "    else:\n",
    "        print(\"The converted data is: \")\n",
    "        x=camelcase.CamelCase()\n",
    "        print(x.hump(a))\n",
    "        spk=pyttsx3.init()\n",
    "        spk.say(\"Successfully converted\")\n",
    "        spk.runAndWait()"
   ]
  }
 ],
 "metadata": {
  "kernelspec": {
   "display_name": "Python 3",
   "language": "python",
   "name": "python3"
  },
  "language_info": {
   "codemirror_mode": {
    "name": "ipython",
    "version": 3
   },
   "file_extension": ".py",
   "mimetype": "text/x-python",
   "name": "python",
   "nbconvert_exporter": "python",
   "pygments_lexer": "ipython3",
   "version": "3.8.5"
  }
 },
 "nbformat": 4,
 "nbformat_minor": 4
}
