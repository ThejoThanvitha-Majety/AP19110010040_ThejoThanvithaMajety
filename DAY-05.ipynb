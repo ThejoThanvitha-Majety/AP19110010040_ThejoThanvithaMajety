{
 "cells": [
  {
   "cell_type": "markdown",
   "metadata": {},
   "source": [
    "# Task:\n",
    "\n",
    "• Write a Python program to sum all the items in a list.\n",
    "\n",
    "• Write a Python program to convert a list of characters into a string • program to put even and odd elements in a list into two different lists\n",
    "\n",
    "• Write a Python program to remove duplicates from a list\n",
    "\n",
    "• Write a Python program to check a list is empty or not.\n",
    "\n",
    "• Write a Python program to print a specified list after removing the O th, 4th and 5th elements.\n",
    "\n",
    "• Write a Python function that takes two lists and returns True if they have at least one common member."
   ]
  },
  {
   "cell_type": "code",
   "execution_count": 10,
   "metadata": {},
   "outputs": [
    {
     "name": "stdout",
     "output_type": "stream",
     "text": [
      "sum of all the items in the list: 2800\n"
     ]
    }
   ],
   "source": [
    "t=[100,200,300,400,500,600,700]\n",
    "print('sum of all the items in the list:',sum(t))"
   ]
  },
  {
   "cell_type": "code",
   "execution_count": 14,
   "metadata": {},
   "outputs": [
    {
     "data": {
      "text/plain": [
       "'I Love my life'"
      ]
     },
     "execution_count": 14,
     "metadata": {},
     "output_type": "execute_result"
    }
   ],
   "source": [
    "k= ['I','Love','my','life']\n",
    "' '.join(k)"
   ]
  },
  {
   "cell_type": "code",
   "execution_count": 23,
   "metadata": {},
   "outputs": [
    {
     "name": "stdout",
     "output_type": "stream",
     "text": [
      "[44, 88, 68, 34]\n",
      "[45, 577, 53, 89]\n"
     ]
    }
   ],
   "source": [
    "j= [45,577,44,88,68,53,34,89]\n",
    "even= []\n",
    "odd= []\n",
    "for i in j:\n",
    "    if i%2==0:\n",
    "        even.append(i)\n",
    "    else:\n",
    "        odd.append(i)\n",
    "print(even)\n",
    "print(odd)"
   ]
  },
  {
   "cell_type": "code",
   "execution_count": 24,
   "metadata": {},
   "outputs": [
    {
     "name": "stdout",
     "output_type": "stream",
     "text": [
      "[3, 53, 55, 675, 453, 785, 464, 768, 4]\n"
     ]
    }
   ],
   "source": [
    "a= [3,53,55,675,453,785,464,768,4]\n",
    "b= []\n",
    "for i in a:\n",
    "    if i not in b:\n",
    "        b.append(i)\n",
    "print(b)"
   ]
  },
  {
   "cell_type": "code",
   "execution_count": 28,
   "metadata": {},
   "outputs": [
    {
     "name": "stdout",
     "output_type": "stream",
     "text": [
      "The list is not empty\n"
     ]
    }
   ],
   "source": [
    "c= [3]\n",
    "if len(c)==0:\n",
    "    print('The list is empty')\n",
    "else:\n",
    "    print('The list is not empty')"
   ]
  },
  {
   "cell_type": "code",
   "execution_count": 31,
   "metadata": {},
   "outputs": [
    {
     "name": "stdout",
     "output_type": "stream",
     "text": [
      "[43, 64, 686, 36, 464]\n"
     ]
    }
   ],
   "source": [
    "d = [2,43,64,686,36,87,464,98]\n",
    "del d[0]\n",
    "del d[4]\n",
    "del d[5]\n",
    "print(d)"
   ]
  },
  {
   "cell_type": "code",
   "execution_count": 43,
   "metadata": {},
   "outputs": [
    {
     "name": "stdout",
     "output_type": "stream",
     "text": [
      "False\n"
     ]
    }
   ],
   "source": [
    "def common(x,y):\n",
    "    flag = False\n",
    "    for i in x:\n",
    "        if (i in y):\n",
    "            flag = True\n",
    "        else:\n",
    "            pass\n",
    "        return flag\n",
    "    \n",
    "x= [5,6,7,8]\n",
    "y= [1,2,3,4]\n",
    "print(common(x,y))"
   ]
  },
  {
   "cell_type": "code",
   "execution_count": 46,
   "metadata": {},
   "outputs": [
    {
     "name": "stdout",
     "output_type": "stream",
     "text": [
      "True\n"
     ]
    }
   ],
   "source": [
    "def common(x,y):\n",
    "    flag = False\n",
    "    for i in x:\n",
    "        if (i in y):\n",
    "            flag = True\n",
    "        else:\n",
    "            pass\n",
    "        return flag\n",
    "    \n",
    "x= [1,5,6,7,8]\n",
    "y= [1,2,3,4]\n",
    "print(common(x,y))"
   ]
  }
 ],
 "metadata": {
  "kernelspec": {
   "display_name": "Python 3",
   "language": "python",
   "name": "python3"
  },
  "language_info": {
   "codemirror_mode": {
    "name": "ipython",
    "version": 3
   },
   "file_extension": ".py",
   "mimetype": "text/x-python",
   "name": "python",
   "nbconvert_exporter": "python",
   "pygments_lexer": "ipython3",
   "version": "3.8.5"
  }
 },
 "nbformat": 4,
 "nbformat_minor": 4
}
