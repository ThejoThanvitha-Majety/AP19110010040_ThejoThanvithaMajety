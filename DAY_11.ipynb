{
 "cells": [
  {
   "cell_type": "markdown",
   "metadata": {},
   "source": [
    "# TASKS\n",
    "1.Write a program for getting the last five lines from the file"
   ]
  },
  {
   "cell_type": "code",
   "execution_count": 41,
   "metadata": {},
   "outputs": [
    {
     "name": "stdout",
     "output_type": "stream",
     "text": [
      "hulk\n",
      "\n",
      "iron man\n",
      "\n",
      "gamora\n",
      "\n",
      "thor\n",
      "\n",
      "Captain Marvel\n"
     ]
    }
   ],
   "source": [
    "f= open('txt.txt','r')\n",
    "for i in (f.readlines()[-5:]):\n",
    "    print(i)"
   ]
  },
  {
   "cell_type": "markdown",
   "metadata": {},
   "source": [
    "# 2.Create a function for appending the data into the file"
   ]
  },
  {
   "cell_type": "code",
   "execution_count": 42,
   "metadata": {},
   "outputs": [],
   "source": [
    "def append_data(information):\n",
    "    with open('txt.txt','a') as f:\n",
    "        information = f.write(\"\\nVision \\n\")\n",
    "        information = f.write(\"Antman\")\n",
    "append_data('txt.txt')"
   ]
  },
  {
   "cell_type": "code",
   "execution_count": 43,
   "metadata": {},
   "outputs": [
    {
     "name": "stdout",
     "output_type": "stream",
     "text": [
      "black panther\n",
      "spider man\n",
      "captain america\n",
      "hawkeye\n",
      "black widow\n",
      "hulk\n",
      "iron man\n",
      "gamora\n",
      "thor\n",
      "Captain Marvel\n",
      "Vision \n",
      "Antman\n"
     ]
    }
   ],
   "source": [
    "f = open('txt.txt')\n",
    "print(f.read())"
   ]
  },
  {
   "cell_type": "markdown",
   "metadata": {},
   "source": [
    "# 3.Create a program for updating a word in the file\n"
   ]
  },
  {
   "cell_type": "code",
   "execution_count": 44,
   "metadata": {},
   "outputs": [
    {
     "name": "stdout",
     "output_type": "stream",
     "text": [
      "black panther\n",
      "spider man\n",
      "captain america\n",
      "hawkeye\n",
      "black widow\n",
      "hulk\n",
      "iron man\n",
      "gamora\n",
      "thor\n",
      "Captain Marvel\n",
      "Vision \n",
      "Antman\n"
     ]
    }
   ],
   "source": [
    "import re\n",
    "with open('txt.txt',\"r+\") as f:\n",
    "    f1 = f.read( )\n",
    "    f1 = re.sub( \"Loki\", \"Antman\", f1)\n",
    "    f.seek(0)\n",
    "    f.write(f1)\n",
    "    f.truncate( )\n",
    "f = open(\"txt.txt\")\n",
    "print (f.read( ))"
   ]
  }
 ],
 "metadata": {
  "kernelspec": {
   "display_name": "Python 3",
   "language": "python",
   "name": "python3"
  },
  "language_info": {
   "codemirror_mode": {
    "name": "ipython",
    "version": 3
   },
   "file_extension": ".py",
   "mimetype": "text/x-python",
   "name": "python",
   "nbconvert_exporter": "python",
   "pygments_lexer": "ipython3",
   "version": "3.8.5"
  }
 },
 "nbformat": 4,
 "nbformat_minor": 4
}
