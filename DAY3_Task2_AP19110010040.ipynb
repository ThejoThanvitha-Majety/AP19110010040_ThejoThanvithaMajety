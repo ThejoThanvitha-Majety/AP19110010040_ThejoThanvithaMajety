{
 "cells": [
  {
   "cell_type": "markdown",
   "metadata": {},
   "source": [
    "## DAY3_TASK2_AP19110010040\n",
    "\n",
    " - Take first 3 values of roll number\n",
    " - If value startswith \"191\" --> 'CSE Dept'\n",
    " - elif value startswith \"192\" --> 'IT Dept'\n",
    " - elif value startswith \"193\" --> \"ECE Dept\"\n",
    " - else not an SRM student"
   ]
  },
  {
   "cell_type": "code",
   "execution_count": 14,
   "metadata": {},
   "outputs": [
    {
     "name": "stdout",
     "output_type": "stream",
     "text": [
      "Enter your roll numberAP19110010010\n",
      "The student is CSE Department\n"
     ]
    }
   ],
   "source": [
    "string= input('Enter your roll number')\n",
    "if string[-3:].startswith('01'):\n",
    "    print('The student is CSE Department')\n",
    "elif string[-3:].startswith('02'):\n",
    "    print('The student is ECE Department')\n",
    "elif string[-3:].startswith('03'):\n",
    "    print('The stdent is Civil Department')\n",
    "else:\n",
    "    print('The student does not belong to SRM')"
   ]
  },
  {
   "cell_type": "code",
   "execution_count": 15,
   "metadata": {},
   "outputs": [
    {
     "name": "stdout",
     "output_type": "stream",
     "text": [
      "Enter your roll numberAP19110010020\n",
      "The student is ECE Department\n"
     ]
    }
   ],
   "source": [
    "string= input('Enter your roll number')\n",
    "if string[-3:].startswith('01'):\n",
    "    print('The student is CSE Department')\n",
    "elif string[-3:].startswith('02'):\n",
    "    print('The student is ECE Department')\n",
    "elif string[-3:].startswith('03'):\n",
    "    print('The stdent is Civil Department')\n",
    "else:\n",
    "    print('The student does not belong to SRM')"
   ]
  },
  {
   "cell_type": "code",
   "execution_count": 16,
   "metadata": {},
   "outputs": [
    {
     "name": "stdout",
     "output_type": "stream",
     "text": [
      "Enter your roll numberAp19110010030\n",
      "The stdent is Civil Department\n"
     ]
    }
   ],
   "source": [
    "string= input('Enter your roll number')\n",
    "if string[-3:].startswith('01'):\n",
    "    print('The student is CSE Department')\n",
    "elif string[-3:].startswith('02'):\n",
    "    print('The student is ECE Department')\n",
    "elif string[-3:].startswith('03'):\n",
    "    print('The stdent is Civil Department')\n",
    "else:\n",
    "    print('The student does not belong to SRM')"
   ]
  },
  {
   "cell_type": "code",
   "execution_count": 17,
   "metadata": {},
   "outputs": [
    {
     "name": "stdout",
     "output_type": "stream",
     "text": [
      "Enter your roll numberAP19110010040\n",
      "The student does not belong to SRM\n"
     ]
    }
   ],
   "source": [
    "string= input('Enter your roll number')\n",
    "if string[-3:].startswith('01'):\n",
    "    print('The student is CSE Department')\n",
    "elif string[-3:].startswith('02'):\n",
    "    print('The student is ECE Department')\n",
    "elif string[-3:].startswith('03'):\n",
    "    print('The stdent is Civil Department')\n",
    "else:\n",
    "    print('The student does not belong to SRM')"
   ]
  }
 ],
 "metadata": {
  "kernelspec": {
   "display_name": "Python 3",
   "language": "python",
   "name": "python3"
  },
  "language_info": {
   "codemirror_mode": {
    "name": "ipython",
    "version": 3
   },
   "file_extension": ".py",
   "mimetype": "text/x-python",
   "name": "python",
   "nbconvert_exporter": "python",
   "pygments_lexer": "ipython3",
   "version": "3.8.5"
  }
 },
 "nbformat": 4,
 "nbformat_minor": 4
}
