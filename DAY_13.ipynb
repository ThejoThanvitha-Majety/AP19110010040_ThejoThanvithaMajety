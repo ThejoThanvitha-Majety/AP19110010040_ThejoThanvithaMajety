{
 "cells": [
  {
   "cell_type": "markdown",
   "metadata": {},
   "source": [
    "# Task\n",
    "- Create arrays with all the data types available in numpy\n",
    "\n",
    "# Data Types:\n",
    "- Integer - i\n",
    "- Boolean - b\n",
    "- Unsigned integer - u\n",
    "- float - f\n",
    "- complex float - c\n",
    "- Timedelta - m\n",
    "- Object - O\n",
    "- String - s\n",
    "- Unicode string - u"
   ]
  },
  {
   "cell_type": "markdown",
   "metadata": {},
   "source": [
    "### Integer"
   ]
  },
  {
   "cell_type": "code",
   "execution_count": 3,
   "metadata": {},
   "outputs": [
    {
     "name": "stdout",
     "output_type": "stream",
     "text": [
      "[1 2 3 4]\n",
      "int32\n"
     ]
    }
   ],
   "source": [
    "import numpy as np\n",
    "x = np.array([1,2,3,4], dtype= 'i')\n",
    "print(x)\n",
    "print(x.dtype)"
   ]
  },
  {
   "cell_type": "markdown",
   "metadata": {},
   "source": [
    "### Boolean"
   ]
  },
  {
   "cell_type": "code",
   "execution_count": 5,
   "metadata": {},
   "outputs": [
    {
     "name": "stdout",
     "output_type": "stream",
     "text": [
      "[False  True  True  True  True  True  True False]\n",
      "bool\n"
     ]
    }
   ],
   "source": [
    "x=np.array([0,1,2,3,4,5,6,0], dtype= 'bool') \n",
    "print(x)\n",
    "print(x.dtype)"
   ]
  },
  {
   "cell_type": "markdown",
   "metadata": {},
   "source": [
    "### Unsigned Integer"
   ]
  },
  {
   "cell_type": "code",
   "execution_count": 8,
   "metadata": {},
   "outputs": [
    {
     "name": "stdout",
     "output_type": "stream",
     "text": [
      "[4294967295 4294967294 4294967293          0          4         31]\n",
      "uint32\n"
     ]
    }
   ],
   "source": [
    "x = np.array([-1,-2,-3,0,4,31], dtype= 'uint')\n",
    "print(x)\n",
    "print(x.dtype)"
   ]
  },
  {
   "cell_type": "markdown",
   "metadata": {},
   "source": [
    "### float"
   ]
  },
  {
   "cell_type": "code",
   "execution_count": 9,
   "metadata": {},
   "outputs": [
    {
     "name": "stdout",
     "output_type": "stream",
     "text": [
      "[1.22 3.43 6.52 5.   8.26 9.  ]\n",
      "float64\n"
     ]
    }
   ],
   "source": [
    "x=np.array([1.22,3.43,6.52,5,8.26,9.0])\n",
    "print(x)\n",
    "print(x.dtype)"
   ]
  },
  {
   "cell_type": "markdown",
   "metadata": {},
   "source": [
    "### Complex Float"
   ]
  },
  {
   "cell_type": "code",
   "execution_count": 10,
   "metadata": {},
   "outputs": [
    {
     "name": "stdout",
     "output_type": "stream",
     "text": [
      "[ 3.  +5.j  2.  +6.j 63.75+0.j]\n",
      "complex128\n"
     ]
    }
   ],
   "source": [
    "x=np.array([3+5j, 2+6j, 63.75])\n",
    "print(x)\n",
    "print(x.dtype)"
   ]
  },
  {
   "cell_type": "markdown",
   "metadata": {},
   "source": [
    "### Timedelta"
   ]
  },
  {
   "cell_type": "code",
   "execution_count": 16,
   "metadata": {},
   "outputs": [
    {
     "name": "stdout",
     "output_type": "stream",
     "text": [
      "4 days\n"
     ]
    },
    {
     "data": {
      "text/plain": [
       "dtype('<m8[D]')"
      ]
     },
     "execution_count": 16,
     "metadata": {},
     "output_type": "execute_result"
    }
   ],
   "source": [
    "x=np.timedelta64(4,'D')\n",
    "print(x)\n",
    "x.dtype"
   ]
  },
  {
   "cell_type": "code",
   "execution_count": 17,
   "metadata": {},
   "outputs": [
    {
     "name": "stdout",
     "output_type": "stream",
     "text": [
      "6 months\n"
     ]
    },
    {
     "data": {
      "text/plain": [
       "dtype('<m8[M]')"
      ]
     },
     "execution_count": 17,
     "metadata": {},
     "output_type": "execute_result"
    }
   ],
   "source": [
    "x=np.timedelta64(6,'M')\n",
    "print(x)\n",
    "x.dtype"
   ]
  },
  {
   "cell_type": "markdown",
   "metadata": {},
   "source": [
    "### Object"
   ]
  },
  {
   "cell_type": "code",
   "execution_count": 21,
   "metadata": {},
   "outputs": [
    {
     "name": "stdout",
     "output_type": "stream",
     "text": [
      "['522' '2673' '458']\n",
      "object\n"
     ]
    }
   ],
   "source": [
    "x=np.array(['522','2673','458'],dtype= 'O')\n",
    "print(x)\n",
    "print(x.dtype)"
   ]
  },
  {
   "cell_type": "markdown",
   "metadata": {},
   "source": [
    "### String"
   ]
  },
  {
   "cell_type": "code",
   "execution_count": 22,
   "metadata": {},
   "outputs": [
    {
     "name": "stdout",
     "output_type": "stream",
     "text": [
      "['Tanvi' 'AP19110010040' 'CSE_D']\n",
      "<U13\n"
     ]
    }
   ],
   "source": [
    "x=np.array(['Tanvi','AP19110010040','CSE_D'])\n",
    "print(x)\n",
    "print(x.dtype)"
   ]
  },
  {
   "cell_type": "markdown",
   "metadata": {},
   "source": [
    "### Unicode String "
   ]
  },
  {
   "cell_type": "code",
   "execution_count": 24,
   "metadata": {},
   "outputs": [
    {
     "name": "stdout",
     "output_type": "stream",
     "text": [
      "['Δ' '\\xadz' 'µf' '∂r']\n",
      "<U2\n"
     ]
    }
   ],
   "source": [
    "x=np.array([ u'\\u0394', u'\\255z', u'\\265f', u'\\u2202r'])\n",
    "print(x)\n",
    "print(x.dtype)"
   ]
  }
 ],
 "metadata": {
  "kernelspec": {
   "display_name": "Python 3",
   "language": "python",
   "name": "python3"
  },
  "language_info": {
   "codemirror_mode": {
    "name": "ipython",
    "version": 3
   },
   "file_extension": ".py",
   "mimetype": "text/x-python",
   "name": "python",
   "nbconvert_exporter": "python",
   "pygments_lexer": "ipython3",
   "version": "3.8.5"
  }
 },
 "nbformat": 4,
 "nbformat_minor": 4
}
